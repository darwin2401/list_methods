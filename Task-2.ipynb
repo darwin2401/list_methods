{
 "cells": [
  {
   "cell_type": "markdown",
   "id": "6c8d1960-af01-48aa-8d30-2640f2f92997",
   "metadata": {},
   "source": [
    "# LIST METHODS IN PYTHON"
   ]
  },
  {
   "cell_type": "markdown",
   "id": "66f2d1f4-64b3-438b-a367-bec180a52678",
   "metadata": {},
   "source": [
    "## (1) append"
   ]
  },
  {
   "cell_type": "code",
   "execution_count": 7,
   "id": "0d4c6e75-3456-41d2-b804-5101963eb1e3",
   "metadata": {},
   "outputs": [],
   "source": [
    "#Used for adding elements to the end of the List. "
   ]
  },
  {
   "cell_type": "code",
   "execution_count": 5,
   "id": "b0e847b0-db36-413d-9719-51d656866378",
   "metadata": {},
   "outputs": [
    {
     "name": "stdout",
     "output_type": "stream",
     "text": [
      "[7, 8, 9, 4, 5, 6, 1, 2, 3, 10]\n"
     ]
    }
   ],
   "source": [
    "list1=[7,8,9,4,5,6,1,2,3] \n",
    "list1.append(10) \n",
    "print(list1)"
   ]
  },
  {
   "cell_type": "code",
   "execution_count": null,
   "id": "3e7b9dcc-910a-4d9a-ab38-8e5dc26fb0dd",
   "metadata": {},
   "outputs": [],
   "source": []
  },
  {
   "cell_type": "markdown",
   "id": "38fe2ff4-5d7f-4f3e-bb3e-81c62be318e8",
   "metadata": {},
   "source": [
    "## (2) copy"
   ]
  },
  {
   "cell_type": "code",
   "execution_count": 8,
   "id": "23284cc4-86ed-42ff-830d-f56556b6ced4",
   "metadata": {},
   "outputs": [],
   "source": [
    "#It returns a shallow copy of a list"
   ]
  },
  {
   "cell_type": "code",
   "execution_count": 11,
   "id": "179a29e7-1bc2-4ba7-90f1-68a70b2e9c83",
   "metadata": {},
   "outputs": [
    {
     "name": "stdout",
     "output_type": "stream",
     "text": [
      "['Python', 'PostgreSQL', 'PowerBI', 'Excel']\n"
     ]
    }
   ],
   "source": [
    "skills = ['Python', 'PostgreSQL', 'PowerBI', 'Excel']\n",
    "\n",
    "output = skills.copy()\n",
    "\n",
    "print(output)"
   ]
  },
  {
   "cell_type": "code",
   "execution_count": null,
   "id": "b5ad3ae4-b7ea-42eb-9f98-9eebe17f53cd",
   "metadata": {},
   "outputs": [],
   "source": []
  },
  {
   "cell_type": "markdown",
   "id": "abe6f762-bd4b-4eb1-b552-7113591c3006",
   "metadata": {},
   "source": [
    "## (3) clear"
   ]
  },
  {
   "cell_type": "code",
   "execution_count": null,
   "id": "40252576-977b-4f85-9f85-0503546b87ac",
   "metadata": {},
   "outputs": [],
   "source": [
    "#This method is used for removing all items from the list. "
   ]
  },
  {
   "cell_type": "code",
   "execution_count": 13,
   "id": "30740ff9-6d89-4f07-8b5c-9bc06a915c81",
   "metadata": {},
   "outputs": [
    {
     "name": "stdout",
     "output_type": "stream",
     "text": [
      "[]\n"
     ]
    }
   ],
   "source": [
    "listNew = [4,8,8,6,2,4,2,3]\n",
    "listNew.clear()\n",
    "print(listNew)"
   ]
  },
  {
   "cell_type": "code",
   "execution_count": null,
   "id": "060bdbad-4f40-40fe-9838-8b994bbceecf",
   "metadata": {},
   "outputs": [],
   "source": []
  },
  {
   "cell_type": "markdown",
   "id": "ea5cfd44-146f-4f36-b263-000b5dc17b49",
   "metadata": {},
   "source": [
    "## (4) count"
   ]
  },
  {
   "cell_type": "code",
   "execution_count": 14,
   "id": "a37529d5-30c4-428f-8ba9-abb5709d7167",
   "metadata": {},
   "outputs": [],
   "source": [
    "#These methods count the elements."
   ]
  },
  {
   "cell_type": "code",
   "execution_count": 22,
   "id": "96e18a58-ffc6-4c7c-993a-9c6f8f4d1f2c",
   "metadata": {},
   "outputs": [
    {
     "name": "stdout",
     "output_type": "stream",
     "text": [
      "2\n"
     ]
    }
   ],
   "source": [
    "Actress = ['Hema', 'Rekha', 'Jaya' , 'Sushma', 'Mamta', 'Jaya']\n",
    "\n",
    "Occurence = Actress.count(\"Jaya\")\n",
    "\n",
    "print(Occurence)"
   ]
  },
  {
   "cell_type": "code",
   "execution_count": null,
   "id": "92ec8df8-5237-4e5f-9e1e-93839ecfa654",
   "metadata": {},
   "outputs": [],
   "source": []
  },
  {
   "cell_type": "markdown",
   "id": "af53fcc8-2012-4e37-904c-59c18c4b8647",
   "metadata": {},
   "source": [
    "## (5) extend"
   ]
  },
  {
   "cell_type": "code",
   "execution_count": 23,
   "id": "43e43073-bb48-413c-aa4c-d9d65fea43c0",
   "metadata": {},
   "outputs": [],
   "source": [
    "#Adds each element of an iterable to the end of the List."
   ]
  },
  {
   "cell_type": "code",
   "execution_count": 24,
   "id": "27f6cee7-806b-424b-b891-816190b03811",
   "metadata": {},
   "outputs": [
    {
     "name": "stdout",
     "output_type": "stream",
     "text": [
      "['RBI', 'SBI', 'PNB', 'PSB', 'BOI']\n"
     ]
    }
   ],
   "source": [
    "banks = [\"RBI\",\"SBI\",\"PNB\"]\n",
    "other_banks = [\"PSB\", \"BOI\"]\n",
    "banks.extend(other_banks)\n",
    "print(banks)"
   ]
  },
  {
   "cell_type": "code",
   "execution_count": null,
   "id": "1c440daa-8317-4e9d-a38a-7aaf6fba4fc0",
   "metadata": {},
   "outputs": [],
   "source": []
  },
  {
   "cell_type": "markdown",
   "id": "52169ab1-f26c-4737-a0a7-403eb1f18d65",
   "metadata": {},
   "source": [
    "# (6) index"
   ]
  },
  {
   "cell_type": "code",
   "execution_count": 25,
   "id": "71b242ed-d0cd-4470-9ce2-62e5efe5d4d1",
   "metadata": {},
   "outputs": [],
   "source": [
    "#Returns the lowest index where the element appears."
   ]
  },
  {
   "cell_type": "code",
   "execution_count": 26,
   "id": "6ab97296-9db2-4bd9-96f3-2b49d555eed0",
   "metadata": {},
   "outputs": [
    {
     "name": "stdout",
     "output_type": "stream",
     "text": [
      "2\n"
     ]
    }
   ],
   "source": [
    "sports = ['Cricket', 'Hockey', 'Soccer']\n",
    "\n",
    "previous_index = sports.index(\"Soccer\")\n",
    "\n",
    "print(previous_index)"
   ]
  },
  {
   "cell_type": "code",
   "execution_count": null,
   "id": "7f2069a2-5703-4aba-a312-c0e0a5dbf07b",
   "metadata": {},
   "outputs": [],
   "source": []
  },
  {
   "cell_type": "markdown",
   "id": "20a5c481-37aa-4641-a8bb-b180a6eb0d3f",
   "metadata": {},
   "source": [
    "## (7) insert"
   ]
  },
  {
   "cell_type": "code",
   "execution_count": 27,
   "id": "94634c4d-7582-4977-a3a5-9076330d8684",
   "metadata": {},
   "outputs": [],
   "source": [
    "#Inserts a given element at a given index in a list. "
   ]
  },
  {
   "cell_type": "code",
   "execution_count": 28,
   "id": "360ba500-48b0-4375-8c8f-92f77771ca3f",
   "metadata": {},
   "outputs": [
    {
     "name": "stdout",
     "output_type": "stream",
     "text": [
      "['Mumbai', 'Delhi', 'Kolkata', 'Chennai']\n"
     ]
    }
   ],
   "source": [
    "city = [\"Mumbai\",\"Delhi\",\"Chennai\"] \n",
    "city.insert(2,\"Kolkata\") \n",
    "print(city)"
   ]
  },
  {
   "cell_type": "code",
   "execution_count": null,
   "id": "c7c9558a-e84c-41b7-812e-aee78e0fe13a",
   "metadata": {},
   "outputs": [],
   "source": []
  },
  {
   "cell_type": "markdown",
   "id": "6e0cac36-f32a-4029-9a95-8bf8d62b3a9a",
   "metadata": {},
   "source": [
    "# (8) pop"
   ]
  },
  {
   "cell_type": "code",
   "execution_count": null,
   "id": "0cea88a4-d52c-48c9-859c-df6bebe4fbe4",
   "metadata": {},
   "outputs": [],
   "source": [
    "#Removes and returns the last value from the List or the given index value."
   ]
  },
  {
   "cell_type": "code",
   "execution_count": 37,
   "id": "8e272f72-7454-4dbc-9f23-93caf88bb6ea",
   "metadata": {},
   "outputs": [
    {
     "name": "stdout",
     "output_type": "stream",
     "text": [
      "['Tendulkar', 'Sehwag', 'Ganguly']\n"
     ]
    }
   ],
   "source": [
    "player = ['Tendulkar', 'Sehwag' , 'Afridi' , 'Ganguly']\n",
    "\n",
    "player.pop(2)\n",
    "\n",
    "print(player)\n"
   ]
  },
  {
   "cell_type": "code",
   "execution_count": null,
   "id": "30501de4-350f-4ab2-8c74-a62fc8cd86ef",
   "metadata": {},
   "outputs": [],
   "source": []
  },
  {
   "cell_type": "markdown",
   "id": "03245a9d-2b76-46b3-909e-f2cb435dc177",
   "metadata": {},
   "source": [
    "## (9) remove"
   ]
  },
  {
   "cell_type": "code",
   "execution_count": 38,
   "id": "1b74b450-2981-41ee-b99e-29b3a639695c",
   "metadata": {},
   "outputs": [],
   "source": [
    "#Removes a given object from the List."
   ]
  },
  {
   "cell_type": "code",
   "execution_count": 40,
   "id": "a2f25e9d-1c10-40f6-85b9-cb718ea10aec",
   "metadata": {},
   "outputs": [
    {
     "name": "stdout",
     "output_type": "stream",
     "text": [
      "['RAM', 'SHYAM']\n"
     ]
    }
   ],
   "source": [
    "list2 = ['RAM', 'and', 'SHYAM']\n",
    "list2.remove(\"and\")\n",
    "print(list2)"
   ]
  },
  {
   "cell_type": "code",
   "execution_count": null,
   "id": "d5d241bc-bc72-4371-b9d9-0cff1f26ab0c",
   "metadata": {},
   "outputs": [],
   "source": []
  },
  {
   "cell_type": "markdown",
   "id": "77437587-805d-4c2e-8690-52b17aa14251",
   "metadata": {},
   "source": [
    "## (10) reverse"
   ]
  },
  {
   "cell_type": "code",
   "execution_count": 41,
   "id": "ce7ddf9f-afbc-46b7-bbd8-d98f8c712e79",
   "metadata": {},
   "outputs": [],
   "source": [
    "#Reverses objects of the List in place."
   ]
  },
  {
   "cell_type": "code",
   "execution_count": 43,
   "id": "a2fccf7e-c7ff-4ba8-9928-8ead126d95ff",
   "metadata": {},
   "outputs": [
    {
     "name": "stdout",
     "output_type": "stream",
     "text": [
      "[61, 27485, 4421, 444, 33, 12, 7]\n",
      "['Pie', 'Theta', 'Delta', 'Gamma', 'Beta', 'Alpha']\n"
     ]
    }
   ],
   "source": [
    "# a list of numbers\n",
    "list3 = [7, 12, 33, 444, 4421, 27485, 61] \n",
    "list3.reverse() \n",
    "print(list3) \n",
    " \n",
    "# a list of characters\n",
    "list4 = ['Alpha', 'Beta', 'Gamma', 'Delta', 'Theta', 'Pie'] \n",
    "list4.reverse() \n",
    "print(list4)"
   ]
  },
  {
   "cell_type": "code",
   "execution_count": null,
   "id": "ad4e9248-a91e-4516-881a-f92a056cd9f1",
   "metadata": {},
   "outputs": [],
   "source": []
  },
  {
   "cell_type": "markdown",
   "id": "bd4788cc-e060-4e81-b8fb-08583668ee17",
   "metadata": {},
   "source": [
    "## (11) sort"
   ]
  },
  {
   "cell_type": "code",
   "execution_count": 45,
   "id": "3b996938-ff33-4dde-be00-06b298522f47",
   "metadata": {},
   "outputs": [],
   "source": [
    "#Sort a List in ascending, descending, or user-defined order."
   ]
  },
  {
   "cell_type": "code",
   "execution_count": 49,
   "id": "e08f714b-6c72-4d33-a5ac-b10b3cf35b02",
   "metadata": {},
   "outputs": [
    {
     "name": "stdout",
     "output_type": "stream",
     "text": [
      "['e', 'q', 'r', 't', 'w', 'y']\n",
      "[3, 5, 45, 81, 446, 1471]\n"
     ]
    }
   ],
   "source": [
    "alphabets = ['q','w','e','r' ,'t','y'] \n",
    "alphabets.sort() \n",
    "print(alphabets) \n",
    "  \n",
    "random_numbers = [45,5,446,1471,81,3] \n",
    "random_numbers.sort() \n",
    "print(random_numbers)"
   ]
  },
  {
   "cell_type": "code",
   "execution_count": null,
   "id": "6854bbb1-f470-4b9d-9c74-f66b2cd8cb8a",
   "metadata": {},
   "outputs": [],
   "source": []
  },
  {
   "cell_type": "markdown",
   "id": "57603fc0-2451-4b2b-beb4-5c5ccdba920b",
   "metadata": {},
   "source": [
    "## (12) min"
   ]
  },
  {
   "cell_type": "code",
   "execution_count": 50,
   "id": "fe39de4f-8490-4f90-af91-f0ca07d6dfd5",
   "metadata": {},
   "outputs": [],
   "source": [
    "#Calculates the minimum of all the elements of the list."
   ]
  },
  {
   "cell_type": "code",
   "execution_count": 52,
   "id": "0ca08215-117b-4b61-b0a6-1a01c14bc3a2",
   "metadata": {},
   "outputs": [
    {
     "name": "stdout",
     "output_type": "stream",
     "text": [
      "141\n"
     ]
    }
   ],
   "source": [
    "numbers = [4542121,141,655,214545,45498]\n",
    "print(min(numbers))"
   ]
  },
  {
   "cell_type": "code",
   "execution_count": null,
   "id": "ad15c051-e9b2-4af5-a70b-37edf9156ea5",
   "metadata": {},
   "outputs": [],
   "source": []
  },
  {
   "cell_type": "markdown",
   "id": "28939b9b-e4fc-4a48-a284-363276fdbaf4",
   "metadata": {},
   "source": [
    "## (13) max"
   ]
  },
  {
   "cell_type": "code",
   "execution_count": 54,
   "id": "aa6b2724-7a6e-4f5b-8225-b2c3c9e6afd2",
   "metadata": {},
   "outputs": [],
   "source": [
    "#Calculates the maximum of all the elements of the list."
   ]
  },
  {
   "cell_type": "code",
   "execution_count": 55,
   "id": "d47fdc09-b697-4b74-b741-f4616d82f222",
   "metadata": {},
   "outputs": [
    {
     "name": "stdout",
     "output_type": "stream",
     "text": [
      "4542121\n"
     ]
    }
   ],
   "source": [
    "numbers = [4542121,141,655,214545,45498]\n",
    "print(max(numbers))"
   ]
  },
  {
   "cell_type": "code",
   "execution_count": null,
   "id": "5e994253-bc9b-494f-bd07-04bab35ab4ef",
   "metadata": {},
   "outputs": [],
   "source": []
  }
 ],
 "metadata": {
  "kernelspec": {
   "display_name": "Python 3 (ipykernel)",
   "language": "python",
   "name": "python3"
  },
  "language_info": {
   "codemirror_mode": {
    "name": "ipython",
    "version": 3
   },
   "file_extension": ".py",
   "mimetype": "text/x-python",
   "name": "python",
   "nbconvert_exporter": "python",
   "pygments_lexer": "ipython3",
   "version": "3.11.7"
  }
 },
 "nbformat": 4,
 "nbformat_minor": 5
}
